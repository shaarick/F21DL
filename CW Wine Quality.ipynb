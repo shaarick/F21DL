{
 "cells": [
  {
   "cell_type": "markdown",
   "id": "b639af60",
   "metadata": {},
   "source": [
    "\n",
    "# F21DL: Data Mining & Machine Learning Coursework\n",
    "## Dataset used: [Wine Quality](https://archive.ics.uci.edu/ml/datasets/wine+quality)\n"
   ]
  },
  {
   "cell_type": "markdown",
   "id": "c02e428f",
   "metadata": {},
   "source": [
    "### Setup"
   ]
  },
  {
   "cell_type": "code",
   "execution_count": 17,
   "id": "94e17726",
   "metadata": {},
   "outputs": [],
   "source": [
    "# Need Python >= 3.5 for some libraries\n",
    "\n",
    "import sys\n",
    "assert sys.version_info >= (3,5)"
   ]
  },
  {
   "cell_type": "code",
   "execution_count": 18,
   "id": "11ae25d5",
   "metadata": {},
   "outputs": [],
   "source": [
    "# Import common packages\n",
    "\n",
    "import pandas as pd\n",
    "import matplotlib.pyplot as plt\n",
    "import plotly.express as px\n",
    "import numpy as np"
   ]
  },
  {
   "cell_type": "markdown",
   "id": "677eb141",
   "metadata": {},
   "source": [
    "### Import Data"
   ]
  },
  {
   "cell_type": "code",
   "execution_count": 19,
   "id": "0f856977",
   "metadata": {},
   "outputs": [],
   "source": [
    "df = pd.read_csv(\"winequality-white.csv\", sep=\";\")"
   ]
  },
  {
   "cell_type": "markdown",
   "id": "41f1f5bd",
   "metadata": {},
   "source": [
    "### Inspect Data"
   ]
  },
  {
   "cell_type": "code",
   "execution_count": 20,
   "id": "1f3b2d02",
   "metadata": {},
   "outputs": [
    {
     "data": {
      "text/html": [
       "<div>\n",
       "<style scoped>\n",
       "    .dataframe tbody tr th:only-of-type {\n",
       "        vertical-align: middle;\n",
       "    }\n",
       "\n",
       "    .dataframe tbody tr th {\n",
       "        vertical-align: top;\n",
       "    }\n",
       "\n",
       "    .dataframe thead th {\n",
       "        text-align: right;\n",
       "    }\n",
       "</style>\n",
       "<table border=\"1\" class=\"dataframe\">\n",
       "  <thead>\n",
       "    <tr style=\"text-align: right;\">\n",
       "      <th></th>\n",
       "      <th>fixed acidity</th>\n",
       "      <th>volatile acidity</th>\n",
       "      <th>citric acid</th>\n",
       "      <th>residual sugar</th>\n",
       "      <th>chlorides</th>\n",
       "      <th>free sulfur dioxide</th>\n",
       "      <th>total sulfur dioxide</th>\n",
       "      <th>density</th>\n",
       "      <th>pH</th>\n",
       "      <th>sulphates</th>\n",
       "      <th>alcohol</th>\n",
       "      <th>quality</th>\n",
       "    </tr>\n",
       "  </thead>\n",
       "  <tbody>\n",
       "    <tr>\n",
       "      <th>0</th>\n",
       "      <td>7.0</td>\n",
       "      <td>0.27</td>\n",
       "      <td>0.36</td>\n",
       "      <td>20.7</td>\n",
       "      <td>0.045</td>\n",
       "      <td>45.0</td>\n",
       "      <td>170.0</td>\n",
       "      <td>1.0010</td>\n",
       "      <td>3.00</td>\n",
       "      <td>0.45</td>\n",
       "      <td>8.8</td>\n",
       "      <td>6</td>\n",
       "    </tr>\n",
       "    <tr>\n",
       "      <th>1</th>\n",
       "      <td>6.3</td>\n",
       "      <td>0.30</td>\n",
       "      <td>0.34</td>\n",
       "      <td>1.6</td>\n",
       "      <td>0.049</td>\n",
       "      <td>14.0</td>\n",
       "      <td>132.0</td>\n",
       "      <td>0.9940</td>\n",
       "      <td>3.30</td>\n",
       "      <td>0.49</td>\n",
       "      <td>9.5</td>\n",
       "      <td>6</td>\n",
       "    </tr>\n",
       "    <tr>\n",
       "      <th>2</th>\n",
       "      <td>8.1</td>\n",
       "      <td>0.28</td>\n",
       "      <td>0.40</td>\n",
       "      <td>6.9</td>\n",
       "      <td>0.050</td>\n",
       "      <td>30.0</td>\n",
       "      <td>97.0</td>\n",
       "      <td>0.9951</td>\n",
       "      <td>3.26</td>\n",
       "      <td>0.44</td>\n",
       "      <td>10.1</td>\n",
       "      <td>6</td>\n",
       "    </tr>\n",
       "    <tr>\n",
       "      <th>3</th>\n",
       "      <td>7.2</td>\n",
       "      <td>0.23</td>\n",
       "      <td>0.32</td>\n",
       "      <td>8.5</td>\n",
       "      <td>0.058</td>\n",
       "      <td>47.0</td>\n",
       "      <td>186.0</td>\n",
       "      <td>0.9956</td>\n",
       "      <td>3.19</td>\n",
       "      <td>0.40</td>\n",
       "      <td>9.9</td>\n",
       "      <td>6</td>\n",
       "    </tr>\n",
       "    <tr>\n",
       "      <th>4</th>\n",
       "      <td>7.2</td>\n",
       "      <td>0.23</td>\n",
       "      <td>0.32</td>\n",
       "      <td>8.5</td>\n",
       "      <td>0.058</td>\n",
       "      <td>47.0</td>\n",
       "      <td>186.0</td>\n",
       "      <td>0.9956</td>\n",
       "      <td>3.19</td>\n",
       "      <td>0.40</td>\n",
       "      <td>9.9</td>\n",
       "      <td>6</td>\n",
       "    </tr>\n",
       "  </tbody>\n",
       "</table>\n",
       "</div>"
      ],
      "text/plain": [
       "   fixed acidity  volatile acidity  citric acid  residual sugar  chlorides  \\\n",
       "0            7.0              0.27         0.36            20.7      0.045   \n",
       "1            6.3              0.30         0.34             1.6      0.049   \n",
       "2            8.1              0.28         0.40             6.9      0.050   \n",
       "3            7.2              0.23         0.32             8.5      0.058   \n",
       "4            7.2              0.23         0.32             8.5      0.058   \n",
       "\n",
       "   free sulfur dioxide  total sulfur dioxide  density    pH  sulphates  \\\n",
       "0                 45.0                 170.0   1.0010  3.00       0.45   \n",
       "1                 14.0                 132.0   0.9940  3.30       0.49   \n",
       "2                 30.0                  97.0   0.9951  3.26       0.44   \n",
       "3                 47.0                 186.0   0.9956  3.19       0.40   \n",
       "4                 47.0                 186.0   0.9956  3.19       0.40   \n",
       "\n",
       "   alcohol  quality  \n",
       "0      8.8        6  \n",
       "1      9.5        6  \n",
       "2     10.1        6  \n",
       "3      9.9        6  \n",
       "4      9.9        6  "
      ]
     },
     "execution_count": 20,
     "metadata": {},
     "output_type": "execute_result"
    }
   ],
   "source": [
    "#Inspect first 5 rows\n",
    "\n",
    "df.head()"
   ]
  },
  {
   "cell_type": "code",
   "execution_count": 21,
   "id": "6fc8d332",
   "metadata": {},
   "outputs": [
    {
     "name": "stdout",
     "output_type": "stream",
     "text": [
      "<class 'pandas.core.frame.DataFrame'>\n",
      "RangeIndex: 4898 entries, 0 to 4897\n",
      "Data columns (total 12 columns):\n",
      " #   Column                Non-Null Count  Dtype  \n",
      "---  ------                --------------  -----  \n",
      " 0   fixed acidity         4898 non-null   float64\n",
      " 1   volatile acidity      4898 non-null   float64\n",
      " 2   citric acid           4898 non-null   float64\n",
      " 3   residual sugar        4898 non-null   float64\n",
      " 4   chlorides             4898 non-null   float64\n",
      " 5   free sulfur dioxide   4898 non-null   float64\n",
      " 6   total sulfur dioxide  4898 non-null   float64\n",
      " 7   density               4898 non-null   float64\n",
      " 8   pH                    4898 non-null   float64\n",
      " 9   sulphates             4898 non-null   float64\n",
      " 10  alcohol               4898 non-null   float64\n",
      " 11  quality               4898 non-null   int64  \n",
      "dtypes: float64(11), int64(1)\n",
      "memory usage: 459.3 KB\n"
     ]
    }
   ],
   "source": [
    "#Some statistics for each coloumn\n",
    "\n",
    "df.info()"
   ]
  },
  {
   "cell_type": "markdown",
   "id": "e530a05c",
   "metadata": {},
   "source": [
    "#### Observation\n",
    "1. There are no missing values in any of the columns.\n",
    "2. Every column except ***quality*** is measured in a continous scale and hence represented by floats.\n",
    "3. Quality is the only column represented by integers because it only has values ranging from 0 to 10.\n",
    "4. Quality is the target class that we will be trying to classify in this notebook."
   ]
  },
  {
   "cell_type": "code",
   "execution_count": 30,
   "id": "5f1d4aad",
   "metadata": {},
   "outputs": [
    {
     "data": {
      "text/plain": [
       "6    2198\n",
       "5    1457\n",
       "7     880\n",
       "8     175\n",
       "4     163\n",
       "3      20\n",
       "9       5\n",
       "Name: quality, dtype: int64"
      ]
     },
     "execution_count": 30,
     "metadata": {},
     "output_type": "execute_result"
    }
   ],
   "source": [
    "# See unique values for Quality column.\n",
    "\n",
    "df.quality.value_counts()"
   ]
  },
  {
   "cell_type": "code",
   "execution_count": 37,
   "id": "5c4f4a8f",
   "metadata": {},
   "outputs": [
    {
     "data": {
      "text/plain": [
       "6    44.875459\n",
       "5    29.746835\n",
       "7    17.966517\n",
       "8     3.572887\n",
       "4     3.327889\n",
       "3     0.408330\n",
       "9     0.102082\n",
       "Name: quality, dtype: float64"
      ]
     },
     "execution_count": 37,
     "metadata": {},
     "output_type": "execute_result"
    }
   ],
   "source": [
    "# See unique values for Quality column as percentages.\n",
    "\n",
    "df.quality.value_counts(normalize=True).apply(lambda x: x * 100)"
   ]
  },
  {
   "cell_type": "code",
   "execution_count": 48,
   "id": "458ae57d",
   "metadata": {},
   "outputs": [
    {
     "data": {
      "image/png": "[encoded data removed]",
      "text/plain": [
       "<Figure size 432x288 with 1 Axes>"
      ]
     },
     "metadata": {
      "needs_background": "light"
     },
     "output_type": "display_data"
    }
   ],
   "source": [
    "# Histogram for Quality and Normal Distribution having same mean and sd as Quality.\n",
    "\n",
    "# Quality\n",
    "ql = df.quality.to_numpy()\n",
    "plt.hist(ql, density=True, histtype=\"step\", label=\"Observed\")\n",
    "\n",
    "# Normal\n",
    "similar_normal_dist = np.random.normal(ql.mean(),ql.std(),ql.size)\n",
    "plt.hist(similar_normal_dist, range=(0,10), histtype=\"step\", label=\"Normal\", density=True)\n",
    "\n",
    "plt.legend(loc=0)\n",
    "plt.show()"
   ]
  },
  {
   "cell_type": "markdown",
   "id": "58a21fb0",
   "metadata": {},
   "source": [
    "#### Observations (Observed)\n",
    "1. Unimodal.\n",
    "2. Very poor and high quality wines are outliers.\n",
    "3. Data looks almost symmetric though.\n",
    "4. **<font color=\"red\"> Observed distribution is not very similar to Normal, is logistic regression still appropriate here? </font>**\n"
   ]
  },
  {
   "cell_type": "code",
   "execution_count": null,
   "id": "d8b4c19b",
   "metadata": {},
   "outputs": [],
   "source": [
    "fig = px.box(df, x=\"quality\")\n",
    "fig.show()"
   ]
  },
  {
   "cell_type": "code",
   "execution_count": null,
   "id": "b753e26c",
   "metadata": {},
   "outputs": [],
   "source": [
    "#Statistical Summary\n",
    "\n",
    "df.describe()"
   ]
  },
  {
   "cell_type": "code",
   "execution_count": null,
   "id": "0fd09107",
   "metadata": {},
   "outputs": [],
   "source": [
    "#Histograms\n",
    "\n",
    "df.hist(bins=50, figsize=(20,15))\n",
    "plt.show()"
   ]
  },
  {
   "cell_type": "code",
   "execution_count": null,
   "id": "2dc57591",
   "metadata": {},
   "outputs": [],
   "source": [
    "# Correlation \n",
    "\n",
    "corr_matrix = df.corr()"
   ]
  },
  {
   "cell_type": "code",
   "execution_count": null,
   "id": "e387db59",
   "metadata": {},
   "outputs": [],
   "source": [
    "# Pairwise correlation for all columns\n",
    "\n",
    "print(corr_matrix)"
   ]
  },
  {
   "cell_type": "code",
   "execution_count": null,
   "id": "a38fa3ae",
   "metadata": {},
   "outputs": [],
   "source": [
    "# Correlation for just the alcohol series\n",
    "\n",
    "corr_matrix.alcohol.sort_values(ascending=False)"
   ]
  },
  {
   "cell_type": "markdown",
   "id": "3dc7e7f3",
   "metadata": {},
   "source": [
    "<div class=\"alert alert-block alert-danger\">\n",
    "<b>Note:</b> Alcohol has high correlation with density.\n",
    "</div>"
   ]
  },
  {
   "cell_type": "code",
   "execution_count": null,
   "id": "6b29eb0d",
   "metadata": {},
   "outputs": [],
   "source": [
    "# Correlation for just the alcohol series\n",
    "\n",
    "corr_matrix.density.sort_values(ascending=False)"
   ]
  },
  {
   "cell_type": "markdown",
   "id": "c3f33e47",
   "metadata": {},
   "source": [
    "<div class=\"alert alert-block alert-danger\">\n",
    "<b>Note:</b> Density has high correlation with residual sugar.\n",
    "</div>"
   ]
  },
  {
   "cell_type": "markdown",
   "id": "91e8272d",
   "metadata": {},
   "source": [
    "Reason:\n",
    "\n",
    "***[The density of an alcoholic beverage is basically derived from 1) The amount of sugar left in the beverage (less sugar = more alcohol = lighter weight) and 2) whatever other extras are added to the liquid (taste givers, aetheric oils, water etc).](https://bartenderly.com/tips-tricks/alcohol-density-chart/)***"
   ]
  },
  {
   "cell_type": "code",
   "execution_count": null,
   "id": "c4a1c708",
   "metadata": {},
   "outputs": [],
   "source": [
    "#There arent many interesting scatterplots for this data.\n",
    "\n",
    "from pandas.plotting import scatter_matrix\n",
    "\n",
    "attributes = [\"quality\", \"alcohol\", \"residual sugar\", \"density\"]\n",
    "\n",
    "scatter_matrix(df[attributes], figsize=(12, 8))"
   ]
  },
  {
   "cell_type": "code",
   "execution_count": null,
   "id": "261b7dbd",
   "metadata": {},
   "outputs": [],
   "source": [
    "# Closer look at density-sugar plot\n",
    "\n",
    "df.plot(kind=\"scatter\", x=\"residual sugar\", y=\"density\")\n",
    "             \n",
    "plt.axis([0, 50, 0.96, 1.05])"
   ]
  }
 ],
 "metadata": {
  "authors": [
   {
    "name": "Mohammad Shariq Farooqui"
   }
  ],
  "kernelspec": {
   "display_name": "py39",
   "language": "python",
   "name": "py39"
  },
  "language_info": {
   "codemirror_mode": {
    "name": "ipython",
    "version": 3
   },
   "file_extension": ".py",
   "mimetype": "text/x-python",
   "name": "python",
   "nbconvert_exporter": "python",
   "pygments_lexer": "ipython3",
   "version": "3.9.4"
  }
 },
 "nbformat": 4,
 "nbformat_minor": 5
}
