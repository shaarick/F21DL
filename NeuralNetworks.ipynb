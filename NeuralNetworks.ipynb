{
  "nbformat": 4,
  "nbformat_minor": 0,
  "metadata": {
    "accelerator": "GPU",
    "colab": {
      "name": "NeuralNetworks.ipynb",
      "provenance": [],
      "collapsed_sections": [],
      "machine_shape": "hm"
    },
    "kernelspec": {
      "display_name": "Python 3",
      "name": "python3"
    },
    "language_info": {
      "name": "python"
    }
  },
  "cells": [
    {
      "cell_type": "markdown",
      "metadata": {
        "id": "6sSq6uZkHKbs"
      },
      "source": [
        "# F21DL: Coursework Part 4 and 5"
      ]
    },
    {
      "cell_type": "markdown",
      "metadata": {
        "id": "0jbj-DA6Hv2k"
      },
      "source": [
        "## Preparation"
      ]
    },
    {
      "cell_type": "code",
      "metadata": {
        "id": "rFHd8BlmHxeG"
      },
      "source": [
        "import tensorflow as tf\n",
        "from tensorflow import keras\n",
        "import numpy as np\n",
        "import sklearn\n",
        "\n",
        "%matplotlib inline\n",
        "import matplotlib as mpl\n",
        "import matplotlib.pyplot as plt\n",
        "mpl.rc('axes', labelsize=14)\n",
        "mpl.rc('xtick', labelsize=12)\n",
        "mpl.rc('ytick', labelsize=12)"
      ],
      "execution_count": 1,
      "outputs": []
    },
    {
      "cell_type": "code",
      "metadata": {
        "id": "kVF7yqgpISOs"
      },
      "source": [
        "# Training data\n",
        "with np.load(\"/content/drive/MyDrive/Colab Notebooks/F21DL/kmnist/k49-train-imgs.npz\") as xTrain:\n",
        "    X_train = xTrain['arr_0']\n",
        "\n",
        "# Training labels\n",
        "with np.load(\"/content/drive/MyDrive/Colab Notebooks/F21DL/kmnist/k49-train-labels.npz\") as yTrain:\n",
        "    y_train = yTrain[\"arr_0\"]\n",
        "\n",
        "# Testing data \n",
        "with np.load(\"/content/drive/MyDrive/Colab Notebooks/F21DL/kmnist/k49-test-imgs.npz\") as xTest:\n",
        "    X_test = xTest[\"arr_0\"]\n",
        "\n",
        "#Testing labels\n",
        "with np.load(\"/content/drive/MyDrive/Colab Notebooks/F21DL/kmnist/k49-test-labels.npz\") as yTest:\n",
        "    y_test = yTest[\"arr_0\"]"
      ],
      "execution_count": 2,
      "outputs": []
    },
    {
      "cell_type": "markdown",
      "metadata": {
        "id": "w8GydhfQHYle"
      },
      "source": [
        "## Multilayer Perceptron"
      ]
    },
    {
      "cell_type": "code",
      "metadata": {
        "id": "wy36tJZT8FUp"
      },
      "source": [
        "X_valid, X_train = X_train[:5000] / 255., X_train[5000:] / 255.\n",
        "y_valid, y_train = y_train[:5000], y_train[5000:]\n",
        "X_test = X_test / 255."
      ],
      "execution_count": 3,
      "outputs": []
    },
    {
      "cell_type": "code",
      "metadata": {
        "id": "ZtrnEnACKVP0"
      },
      "source": [
        "keras.backend.clear_session()\n",
        "np.random.seed(42)\n",
        "tf.random.set_seed(42)"
      ],
      "execution_count": 4,
      "outputs": []
    },
    {
      "cell_type": "code",
      "metadata": {
        "id": "MswK9KHbJFcr"
      },
      "source": [
        "model = keras.models.Sequential()\n",
        "model.add(keras.layers.Flatten(input_shape=[28, 28])) # first layer convert each input image into a 1D array\n",
        "model.add(keras.layers.Dense(300, activation=\"relu\")) #hidden layer with 300 neurons useing the ReLU activation function.\n",
        "model.add(keras.layers.Dense(100, activation=\"relu\")) #hidden layer with 100 neurons using the ReLU\n",
        "model.add(keras.layers.Dense(49, activation=\"softmax\")) #output layer with 49 neurons (one per class), using the softmax "
      ],
      "execution_count": 5,
      "outputs": []
    },
    {
      "cell_type": "code",
      "metadata": {
        "id": "mCKra3JkVxns"
      },
      "source": [
        "model.compile(loss=keras.losses.SparseCategoricalCrossentropy(),\n",
        "              optimizer=keras.optimizers.SGD(), #\"sgd\" simply means that we will train the model using simple Stochastic Gradient Descent\n",
        "              metrics=[keras.metrics.SparseCategoricalAccuracy()])"
      ],
      "execution_count": 6,
      "outputs": []
    },
    {
      "cell_type": "code",
      "metadata": {
        "colab": {
          "base_uri": "https://localhost:8080/"
        },
        "id": "7-A8erlVa_JJ",
        "outputId": "bcc4a476-9d50-4a73-f721-e32157435432"
      },
      "source": [
        "history = model.fit(X_train, y_train, epochs=10, validation_data=(X_valid, y_valid))"
      ],
      "execution_count": 7,
      "outputs": [
        {
          "output_type": "stream",
          "name": "stdout",
          "text": [
            "Epoch 1/10\n",
            "7106/7106 [==============================] - 17s 2ms/step - loss: 1.6159 - sparse_categorical_accuracy: 0.6088 - val_loss: 1.0935 - val_sparse_categorical_accuracy: 0.7164\n",
            "Epoch 2/10\n",
            "7106/7106 [==============================] - 14s 2ms/step - loss: 0.9485 - sparse_categorical_accuracy: 0.7608 - val_loss: 0.8503 - val_sparse_categorical_accuracy: 0.7736\n",
            "Epoch 3/10\n",
            "7106/7106 [==============================] - 14s 2ms/step - loss: 0.7417 - sparse_categorical_accuracy: 0.8103 - val_loss: 0.6851 - val_sparse_categorical_accuracy: 0.8190\n",
            "Epoch 4/10\n",
            "7106/7106 [==============================] - 14s 2ms/step - loss: 0.6214 - sparse_categorical_accuracy: 0.8394 - val_loss: 0.6508 - val_sparse_categorical_accuracy: 0.8256\n",
            "Epoch 5/10\n",
            "7106/7106 [==============================] - 14s 2ms/step - loss: 0.5418 - sparse_categorical_accuracy: 0.8588 - val_loss: 0.5541 - val_sparse_categorical_accuracy: 0.8530\n",
            "Epoch 6/10\n",
            "7106/7106 [==============================] - 14s 2ms/step - loss: 0.4842 - sparse_categorical_accuracy: 0.8727 - val_loss: 0.4967 - val_sparse_categorical_accuracy: 0.8706\n",
            "Epoch 7/10\n",
            "7106/7106 [==============================] - 14s 2ms/step - loss: 0.4402 - sparse_categorical_accuracy: 0.8841 - val_loss: 0.4754 - val_sparse_categorical_accuracy: 0.8746\n",
            "Epoch 8/10\n",
            "7106/7106 [==============================] - 14s 2ms/step - loss: 0.4057 - sparse_categorical_accuracy: 0.8923 - val_loss: 0.4535 - val_sparse_categorical_accuracy: 0.8804\n",
            "Epoch 9/10\n",
            "7106/7106 [==============================] - 14s 2ms/step - loss: 0.3776 - sparse_categorical_accuracy: 0.9001 - val_loss: 0.4323 - val_sparse_categorical_accuracy: 0.8856\n",
            "Epoch 10/10\n",
            "7106/7106 [==============================] - 14s 2ms/step - loss: 0.3530 - sparse_categorical_accuracy: 0.9059 - val_loss: 0.4233 - val_sparse_categorical_accuracy: 0.8904\n"
          ]
        }
      ]
    },
    {
      "cell_type": "code",
      "metadata": {
        "colab": {
          "base_uri": "https://localhost:8080/"
        },
        "id": "SD1wIVBt3Ak_",
        "outputId": "1a25efaa-7c63-4df3-9d6e-78e8def58808"
      },
      "source": [
        "results_base_train = model.evaluate(X_train, y_train)"
      ],
      "execution_count": 8,
      "outputs": [
        {
          "output_type": "stream",
          "name": "stdout",
          "text": [
            "7106/7106 [==============================] - 13s 2ms/step - loss: 0.3334 - sparse_categorical_accuracy: 0.9113\n"
          ]
        }
      ]
    },
    {
      "cell_type": "code",
      "metadata": {
        "colab": {
          "base_uri": "https://localhost:8080/"
        },
        "id": "pUYayYb-88ll",
        "outputId": "d0334e87-1df1-4aa1-b51a-26d534e5de02"
      },
      "source": [
        "results_base_train"
      ],
      "execution_count": 9,
      "outputs": [
        {
          "output_type": "execute_result",
          "data": {
            "text/plain": [
              "[0.3334272503852844, 0.9113144278526306]"
            ]
          },
          "metadata": {},
          "execution_count": 9
        }
      ]
    },
    {
      "cell_type": "code",
      "metadata": {
        "colab": {
          "base_uri": "https://localhost:8080/"
        },
        "id": "EEbE47RY3ZEK",
        "outputId": "140b8a50-c8c4-4c1c-d39a-6853aa19478b"
      },
      "source": [
        "results_base_test = model.evaluate(X_test, y_test)"
      ],
      "execution_count": 10,
      "outputs": [
        {
          "output_type": "stream",
          "name": "stdout",
          "text": [
            "1205/1205 [==============================] - 2s 2ms/step - loss: 0.7779 - sparse_categorical_accuracy: 0.8037\n"
          ]
        }
      ]
    },
    {
      "cell_type": "markdown",
      "metadata": {
        "id": "nbmKbQ40rf2H"
      },
      "source": [
        "**The following accuracies will be used as the base case for all comparisons in the modification section.**"
      ]
    },
    {
      "cell_type": "code",
      "metadata": {
        "colab": {
          "base_uri": "https://localhost:8080/"
        },
        "id": "8Af29FC03acw",
        "outputId": "7e33ba9b-dbd6-4ce0-f8e3-f7bae2c66fbb"
      },
      "source": [
        "print(f\"Training Accuracy: {results_base_train[1]:.6f}\")\n",
        "print(f\"Testing  Accuracy: {results_base_test[1]:.6f}\")"
      ],
      "execution_count": 11,
      "outputs": [
        {
          "output_type": "stream",
          "name": "stdout",
          "text": [
            "Training Accuracy: 0.911314\n",
            "Testing  Accuracy: 0.803694\n"
          ]
        }
      ]
    },
    {
      "cell_type": "markdown",
      "metadata": {
        "id": "u0ygfCUTo-g9"
      },
      "source": [
        "## Parameter Modifications"
      ]
    },
    {
      "cell_type": "markdown",
      "metadata": {
        "id": "xZf21sygpJpC"
      },
      "source": [
        "### Change Activation Functions"
      ]
    },
    {
      "cell_type": "code",
      "metadata": {
        "id": "QSpmbzc6pz7H"
      },
      "source": [
        "keras.backend.clear_session()"
      ],
      "execution_count": 12,
      "outputs": []
    },
    {
      "cell_type": "code",
      "metadata": {
        "id": "sTjQMUvdqN4-"
      },
      "source": [
        "model = keras.models.Sequential()\n",
        "model.add(keras.layers.Flatten(input_shape=[28, 28])) \n",
        "model.add(keras.layers.Dense(300, activation=\"sigmoid\"))\n",
        "model.add(keras.layers.Dense(100, activation=\"tanh\"))\n",
        "model.add(keras.layers.Dense(49, activation=\"relu\"))"
      ],
      "execution_count": 13,
      "outputs": []
    },
    {
      "cell_type": "code",
      "metadata": {
        "id": "KbW5Admjpz7I"
      },
      "source": [
        "model.compile(loss=\"sparse_categorical_crossentropy\",\n",
        "              optimizer=\"sgd\", #\"sgd\" simply means that we will train the model using simple Stochastic Gradient Descent\n",
        "              metrics=[\"accuracy\"])"
      ],
      "execution_count": 14,
      "outputs": []
    },
    {
      "cell_type": "code",
      "metadata": {
        "colab": {
          "base_uri": "https://localhost:8080/"
        },
        "id": "0UAUMWKEpz7I",
        "outputId": "1a74bcf6-a71b-47a0-c6a0-f96e80d5ed20"
      },
      "source": [
        "history = model.fit(X_train, y_train, epochs=10, validation_data=(X_valid, y_valid))"
      ],
      "execution_count": 15,
      "outputs": [
        {
          "output_type": "stream",
          "name": "stdout",
          "text": [
            "Epoch 1/10\n",
            "7106/7106 [==============================] - 16s 2ms/step - loss: 7.9369 - accuracy: 0.0227 - val_loss: 7.6677 - val_accuracy: 0.0216\n",
            "Epoch 2/10\n",
            "7106/7106 [==============================] - 15s 2ms/step - loss: 8.3635 - accuracy: 0.0259 - val_loss: 8.0537 - val_accuracy: 0.0216\n",
            "Epoch 3/10\n",
            "7106/7106 [==============================] - 15s 2ms/step - loss: 7.8706 - accuracy: 0.0259 - val_loss: 7.7169 - val_accuracy: 0.0216\n",
            "Epoch 4/10\n",
            "7106/7106 [==============================] - 15s 2ms/step - loss: 7.7050 - accuracy: 0.0259 - val_loss: 7.7194 - val_accuracy: 0.0216\n",
            "Epoch 5/10\n",
            "7106/7106 [==============================] - 15s 2ms/step - loss: 7.7154 - accuracy: 0.0259 - val_loss: 7.7194 - val_accuracy: 0.0216\n",
            "Epoch 6/10\n",
            "7106/7106 [==============================] - 15s 2ms/step - loss: 7.7154 - accuracy: 0.0259 - val_loss: 7.7194 - val_accuracy: 0.0216\n",
            "Epoch 7/10\n",
            "7106/7106 [==============================] - 16s 2ms/step - loss: 7.7154 - accuracy: 0.0259 - val_loss: 7.7194 - val_accuracy: 0.0216\n",
            "Epoch 8/10\n",
            "7106/7106 [==============================] - 15s 2ms/step - loss: 7.7154 - accuracy: 0.0259 - val_loss: 7.7194 - val_accuracy: 0.0216\n",
            "Epoch 9/10\n",
            "7106/7106 [==============================] - 15s 2ms/step - loss: 7.7154 - accuracy: 0.0259 - val_loss: 7.7194 - val_accuracy: 0.0216\n",
            "Epoch 10/10\n",
            "7106/7106 [==============================] - 15s 2ms/step - loss: 7.7154 - accuracy: 0.0259 - val_loss: 7.7194 - val_accuracy: 0.0216\n"
          ]
        }
      ]
    },
    {
      "cell_type": "code",
      "metadata": {
        "colab": {
          "base_uri": "https://localhost:8080/"
        },
        "id": "UQQFPVgC53Cr",
        "outputId": "1f2b7365-5c63-43d9-e06b-b7c52d41222d"
      },
      "source": [
        "results_act_train = model.evaluate(X_train, y_train)\n",
        "results_act_test = model.evaluate(X_test, y_test)\n",
        "print(f\"Training Accuracy: {results_act_train[1]:.6f}\")\n",
        "print(f\"Testing  Accuracy: {results_act_test[1]:.6f}\")"
      ],
      "execution_count": 16,
      "outputs": [
        {
          "output_type": "stream",
          "name": "stdout",
          "text": [
            "7106/7106 [==============================] - 13s 2ms/step - loss: 7.7154 - accuracy: 0.0259\n",
            "1205/1205 [==============================] - 2s 2ms/step - loss: 7.7164 - accuracy: 0.0259\n",
            "Training Accuracy: 0.025914\n",
            "Testing  Accuracy: 0.025942\n"
          ]
        }
      ]
    },
    {
      "cell_type": "markdown",
      "metadata": {
        "id": "n4dq3tYv_GRK"
      },
      "source": [
        "#### Observations\n",
        "1. Training accuracy **decreased by 0.8854.**\n",
        "2. Testing accuracy   **decreased by 0.7778.**"
      ]
    },
    {
      "cell_type": "markdown",
      "metadata": {
        "id": "K3GZT5_t_50N"
      },
      "source": [
        "### Change Number and Size of Layers"
      ]
    },
    {
      "cell_type": "code",
      "metadata": {
        "colab": {
          "base_uri": "https://localhost:8080/"
        },
        "id": "b4SbEbgvA1eY",
        "outputId": "ec8de014-5a1a-41e0-8ac5-9c861e5839f6"
      },
      "source": [
        "keras.backend.clear_session()\n",
        "\n",
        "model = keras.models.Sequential()\n",
        "model.add(keras.layers.Flatten(input_shape=[28, 28])) \n",
        "model.add(keras.layers.Dense(600, activation=\"relu\"))\n",
        "model.add(keras.layers.Dense(300, activation=\"relu\"))\n",
        "model.add(keras.layers.Dense(200, activation=\"relu\"))\n",
        "model.add(keras.layers.Dense(100, activation=\"relu\"))\n",
        "model.add(keras.layers.Dense(49, activation=\"softmax\"))\n",
        "\n",
        "model.compile(loss=\"sparse_categorical_crossentropy\",\n",
        "              optimizer=\"sgd\", #\"sgd\" simply means that we will train the model using simple Stochastic Gradient Descent\n",
        "              metrics=[\"accuracy\"])\n",
        "\n",
        "history = model.fit(X_train, y_train, epochs=10, validation_data=(X_valid, y_valid))\n",
        "\n",
        "results_lay_train = model.evaluate(X_train, y_train)\n",
        "results_lay_test = model.evaluate(X_test, y_test)"
      ],
      "execution_count": 17,
      "outputs": [
        {
          "output_type": "stream",
          "name": "stdout",
          "text": [
            "Epoch 1/10\n",
            "7106/7106 [==============================] - 16s 2ms/step - loss: 1.5205 - accuracy: 0.6224 - val_loss: 0.9268 - val_accuracy: 0.7500\n",
            "Epoch 2/10\n",
            "7106/7106 [==============================] - 15s 2ms/step - loss: 0.7211 - accuracy: 0.8102 - val_loss: 0.6827 - val_accuracy: 0.8150\n",
            "Epoch 3/10\n",
            "7106/7106 [==============================] - 15s 2ms/step - loss: 0.5259 - accuracy: 0.8585 - val_loss: 0.4722 - val_accuracy: 0.8728\n",
            "Epoch 4/10\n",
            "7106/7106 [==============================] - 15s 2ms/step - loss: 0.4229 - accuracy: 0.8856 - val_loss: 0.6864 - val_accuracy: 0.8024\n",
            "Epoch 5/10\n",
            "7106/7106 [==============================] - 15s 2ms/step - loss: 0.3564 - accuracy: 0.9025 - val_loss: 0.4609 - val_accuracy: 0.8708\n",
            "Epoch 6/10\n",
            "7106/7106 [==============================] - 15s 2ms/step - loss: 0.3066 - accuracy: 0.9158 - val_loss: 0.3755 - val_accuracy: 0.8970\n",
            "Epoch 7/10\n",
            "7106/7106 [==============================] - 15s 2ms/step - loss: 0.2680 - accuracy: 0.9261 - val_loss: 0.3668 - val_accuracy: 0.8974\n",
            "Epoch 8/10\n",
            "7106/7106 [==============================] - 15s 2ms/step - loss: 0.2367 - accuracy: 0.9344 - val_loss: 0.3652 - val_accuracy: 0.8990\n",
            "Epoch 9/10\n",
            "7106/7106 [==============================] - 15s 2ms/step - loss: 0.2098 - accuracy: 0.9418 - val_loss: 0.3577 - val_accuracy: 0.9014\n",
            "Epoch 10/10\n",
            "7106/7106 [==============================] - 16s 2ms/step - loss: 0.1855 - accuracy: 0.9481 - val_loss: 0.3516 - val_accuracy: 0.9052\n",
            "7106/7106 [==============================] - 13s 2ms/step - loss: 0.1738 - accuracy: 0.9510\n",
            "1205/1205 [==============================] - 2s 2ms/step - loss: 0.6658 - accuracy: 0.8379\n"
          ]
        }
      ]
    },
    {
      "cell_type": "code",
      "metadata": {
        "colab": {
          "base_uri": "https://localhost:8080/"
        },
        "id": "ypK3rVQlBYAD",
        "outputId": "8a2c5ff7-5c47-4702-a4c3-16df1bf6dc7b"
      },
      "source": [
        "print(f\"Training Accuracy: {results_lay_train[1]:.6f}\")\n",
        "print(f\"Testing  Accuracy: {results_lay_test[1]:.6f}\")"
      ],
      "execution_count": 18,
      "outputs": [
        {
          "output_type": "stream",
          "name": "stdout",
          "text": [
            "Training Accuracy: 0.951048\n",
            "Testing  Accuracy: 0.837860\n"
          ]
        }
      ]
    },
    {
      "cell_type": "markdown",
      "metadata": {
        "id": "UU9lVsO1CQ4F"
      },
      "source": [
        "#### Observations\n",
        "1. Training accuracy **increased by 0.039734.**\n",
        "2. Testing accuracy **increased by 0.034166.**"
      ]
    },
    {
      "cell_type": "markdown",
      "metadata": {
        "id": "9U9hlXXZBedT"
      },
      "source": [
        "### Change Learning Rate"
      ]
    },
    {
      "cell_type": "code",
      "metadata": {
        "colab": {
          "base_uri": "https://localhost:8080/"
        },
        "id": "siVKaLZqBt5k",
        "outputId": "fb70a1c3-9c9a-4cf2-dc2a-b6b12166f2cc"
      },
      "source": [
        "keras.backend.clear_session()\n",
        "\n",
        "model = keras.models.Sequential()\n",
        "model.add(keras.layers.Flatten(input_shape=[28, 28])) \n",
        "model.add(keras.layers.Dense(300, activation=\"relu\"))\n",
        "model.add(keras.layers.Dense(100, activation=\"relu\"))\n",
        "model.add(keras.layers.Dense(49, activation=\"softmax\"))\n",
        "\n",
        "model.compile(loss=\"sparse_categorical_crossentropy\",\n",
        "              optimizer=keras.optimizers.SGD(learning_rate=2), #changing lr from default 0.01\n",
        "              metrics=[\"accuracy\"])\n",
        "\n",
        "history = model.fit(X_train, y_train, epochs=10, validation_data=(X_valid, y_valid))\n",
        "\n",
        "results_lr_train = model.evaluate(X_train, y_train)\n",
        "results_lr_test = model.evaluate(X_test, y_test)"
      ],
      "execution_count": 21,
      "outputs": [
        {
          "output_type": "stream",
          "name": "stdout",
          "text": [
            "Epoch 1/10\n",
            "7106/7106 [==============================] - 15s 2ms/step - loss: 3.8260 - accuracy: 0.0261 - val_loss: 3.8105 - val_accuracy: 0.0246\n",
            "Epoch 2/10\n",
            "7106/7106 [==============================] - 14s 2ms/step - loss: 3.7649 - accuracy: 0.0362 - val_loss: 3.8182 - val_accuracy: 0.0216\n",
            "Epoch 3/10\n",
            "7106/7106 [==============================] - 14s 2ms/step - loss: 3.8107 - accuracy: 0.0259 - val_loss: 3.8143 - val_accuracy: 0.0258\n",
            "Epoch 4/10\n",
            "7106/7106 [==============================] - 14s 2ms/step - loss: 3.8107 - accuracy: 0.0253 - val_loss: 3.8225 - val_accuracy: 0.0232\n",
            "Epoch 5/10\n",
            "7106/7106 [==============================] - 15s 2ms/step - loss: 3.8107 - accuracy: 0.0260 - val_loss: 3.8090 - val_accuracy: 0.0228\n",
            "Epoch 6/10\n",
            "7106/7106 [==============================] - 14s 2ms/step - loss: 3.8113 - accuracy: 0.0262 - val_loss: 3.8145 - val_accuracy: 0.0264\n",
            "Epoch 7/10\n",
            "7106/7106 [==============================] - 14s 2ms/step - loss: 3.8108 - accuracy: 0.0263 - val_loss: 3.8150 - val_accuracy: 0.0246\n",
            "Epoch 8/10\n",
            "7106/7106 [==============================] - 14s 2ms/step - loss: 3.8108 - accuracy: 0.0258 - val_loss: 3.8156 - val_accuracy: 0.0274\n",
            "Epoch 9/10\n",
            "7106/7106 [==============================] - 14s 2ms/step - loss: 3.8111 - accuracy: 0.0256 - val_loss: 3.8219 - val_accuracy: 0.0294\n",
            "Epoch 10/10\n",
            "7106/7106 [==============================] - 14s 2ms/step - loss: 3.8110 - accuracy: 0.0261 - val_loss: 3.8072 - val_accuracy: 0.0264\n",
            "7106/7106 [==============================] - 13s 2ms/step - loss: 3.8152 - accuracy: 0.0258\n",
            "1205/1205 [==============================] - 2s 2ms/step - loss: 3.8124 - accuracy: 0.0259\n"
          ]
        }
      ]
    },
    {
      "cell_type": "code",
      "metadata": {
        "colab": {
          "base_uri": "https://localhost:8080/"
        },
        "id": "uezEneuxDlwB",
        "outputId": "e9200967-75c5-4d54-94d3-21e857aaacf7"
      },
      "source": [
        "print(f\"Training Accuracy: {results_lr_train[1]:.6f}\")\n",
        "print(f\"Testing  Accuracy: {results_lr_test[1]:.6f}\")"
      ],
      "execution_count": 23,
      "outputs": [
        {
          "output_type": "stream",
          "name": "stdout",
          "text": [
            "Training Accuracy: 0.025809\n",
            "Testing  Accuracy: 0.025942\n"
          ]
        }
      ]
    },
    {
      "cell_type": "markdown",
      "metadata": {
        "id": "YRQ0P-lQDnu3"
      },
      "source": [
        "#### Observations\n",
        "1. Training accuracy **decreased by 0.885505.**\n",
        "2. Testing accuracy **decreased by 0.777778.**\n",
        "3. This is surprisingly the same resut as when i changed the activation functions. "
      ]
    },
    {
      "cell_type": "markdown",
      "metadata": {
        "id": "_7zGfxELFwY2"
      },
      "source": [
        "### Change Momentum"
      ]
    },
    {
      "cell_type": "code",
      "metadata": {
        "colab": {
          "base_uri": "https://localhost:8080/"
        },
        "id": "2bdXmtXFICHi",
        "outputId": "af33bf06-4f57-4d04-c59d-af8770904b00"
      },
      "source": [
        "keras.backend.clear_session()\n",
        "\n",
        "model = keras.models.Sequential()\n",
        "model.add(keras.layers.Flatten(input_shape=[28, 28])) \n",
        "model.add(keras.layers.Dense(300, activation=\"relu\"))\n",
        "model.add(keras.layers.Dense(100, activation=\"relu\"))\n",
        "model.add(keras.layers.Dense(49, activation=\"softmax\"))\n",
        "\n",
        "model.compile(loss=\"sparse_categorical_crossentropy\",\n",
        "              optimizer=keras.optimizers.SGD(momentum=0.9), #changing mom from default 0\n",
        "              metrics=[\"accuracy\"])\n",
        "\n",
        "history = model.fit(X_train, y_train, epochs=10, validation_data=(X_valid, y_valid))\n",
        "\n",
        "results_mom_train = model.evaluate(X_train, y_train)\n",
        "results_mom_test = model.evaluate(X_test, y_test)"
      ],
      "execution_count": 24,
      "outputs": [
        {
          "output_type": "stream",
          "name": "stdout",
          "text": [
            "Epoch 1/10\n",
            "7106/7106 [==============================] - 15s 2ms/step - loss: 0.8423 - accuracy: 0.7781 - val_loss: 0.5081 - val_accuracy: 0.8658\n",
            "Epoch 2/10\n",
            "7106/7106 [==============================] - 15s 2ms/step - loss: 0.4403 - accuracy: 0.8779 - val_loss: 0.4222 - val_accuracy: 0.8828\n",
            "Epoch 3/10\n",
            "7106/7106 [==============================] - 15s 2ms/step - loss: 0.3471 - accuracy: 0.9023 - val_loss: 0.3796 - val_accuracy: 0.8986\n",
            "Epoch 4/10\n",
            "7106/7106 [==============================] - 15s 2ms/step - loss: 0.2929 - accuracy: 0.9167 - val_loss: 0.3675 - val_accuracy: 0.9012\n",
            "Epoch 5/10\n",
            "7106/7106 [==============================] - 15s 2ms/step - loss: 0.2579 - accuracy: 0.9255 - val_loss: 0.3592 - val_accuracy: 0.8992\n",
            "Epoch 6/10\n",
            "7106/7106 [==============================] - 15s 2ms/step - loss: 0.2288 - accuracy: 0.9327 - val_loss: 0.3643 - val_accuracy: 0.9072\n",
            "Epoch 7/10\n",
            "7106/7106 [==============================] - 15s 2ms/step - loss: 0.2063 - accuracy: 0.9390 - val_loss: 0.3672 - val_accuracy: 0.9068\n",
            "Epoch 8/10\n",
            "7106/7106 [==============================] - 15s 2ms/step - loss: 0.1876 - accuracy: 0.9433 - val_loss: 0.3820 - val_accuracy: 0.9032\n",
            "Epoch 9/10\n",
            "7106/7106 [==============================] - 15s 2ms/step - loss: 0.1720 - accuracy: 0.9479 - val_loss: 0.3662 - val_accuracy: 0.9102\n",
            "Epoch 10/10\n",
            "7106/7106 [==============================] - 15s 2ms/step - loss: 0.1585 - accuracy: 0.9514 - val_loss: 0.3863 - val_accuracy: 0.9084\n",
            "7106/7106 [==============================] - 12s 2ms/step - loss: 0.1292 - accuracy: 0.9600\n",
            "1205/1205 [==============================] - 2s 2ms/step - loss: 0.7658 - accuracy: 0.8406\n"
          ]
        }
      ]
    },
    {
      "cell_type": "code",
      "metadata": {
        "colab": {
          "base_uri": "https://localhost:8080/"
        },
        "id": "_VVOZ46iIQD7",
        "outputId": "4f5aa023-8f95-42bb-b798-19260074f262"
      },
      "source": [
        "print(f\"Training Accuracy: {results_mom_train[1]:.6f}\")\n",
        "print(f\"Testing  Accuracy: {results_mom_test[1]:.6f}\")"
      ],
      "execution_count": 25,
      "outputs": [
        {
          "output_type": "stream",
          "name": "stdout",
          "text": [
            "Training Accuracy: 0.959985\n",
            "Testing  Accuracy: 0.840558\n"
          ]
        }
      ]
    },
    {
      "cell_type": "markdown",
      "metadata": {
        "id": "Otmcf62yITNE"
      },
      "source": [
        "#### Observations\n",
        "1. Training accuracy **increased by 0.048671.**\n",
        "2. Testing accuracy **increased by 0.036864.**"
      ]
    },
    {
      "cell_type": "markdown",
      "metadata": {
        "id": "RNro9Z00IZSf"
      },
      "source": [
        "### Change Epochs"
      ]
    },
    {
      "cell_type": "code",
      "metadata": {
        "colab": {
          "base_uri": "https://localhost:8080/"
        },
        "id": "_lB8Z50FI_ul",
        "outputId": "6989ed0c-69a0-42f1-99cc-047b916b2683"
      },
      "source": [
        "keras.backend.clear_session()\n",
        "\n",
        "model = keras.models.Sequential()\n",
        "model.add(keras.layers.Flatten(input_shape=[28, 28])) \n",
        "model.add(keras.layers.Dense(300, activation=\"relu\"))\n",
        "model.add(keras.layers.Dense(100, activation=\"relu\"))\n",
        "model.add(keras.layers.Dense(49, activation=\"softmax\"))\n",
        "\n",
        "model.compile(loss=\"sparse_categorical_crossentropy\",\n",
        "              optimizer=keras.optimizers.SGD(),\n",
        "              metrics=[\"accuracy\"])\n",
        "\n",
        "history = model.fit(X_train, y_train, epochs=30, validation_data=(X_valid, y_valid))\n",
        "\n",
        "results_epo_train = model.evaluate(X_train, y_train)\n",
        "results_epo_test = model.evaluate(X_test, y_test)"
      ],
      "execution_count": 26,
      "outputs": [
        {
          "output_type": "stream",
          "name": "stdout",
          "text": [
            "Epoch 1/30\n",
            "7106/7106 [==============================] - 14s 2ms/step - loss: 1.6322 - accuracy: 0.6021 - val_loss: 1.0943 - val_accuracy: 0.7218\n",
            "Epoch 2/30\n",
            "7106/7106 [==============================] - 14s 2ms/step - loss: 0.9481 - accuracy: 0.7600 - val_loss: 0.8489 - val_accuracy: 0.7708\n",
            "Epoch 3/30\n",
            "7106/7106 [==============================] - 14s 2ms/step - loss: 0.7384 - accuracy: 0.8100 - val_loss: 0.6784 - val_accuracy: 0.8244\n",
            "Epoch 4/30\n",
            "7106/7106 [==============================] - 14s 2ms/step - loss: 0.6175 - accuracy: 0.8395 - val_loss: 0.6552 - val_accuracy: 0.8194\n",
            "Epoch 5/30\n",
            "7106/7106 [==============================] - 14s 2ms/step - loss: 0.5384 - accuracy: 0.8594 - val_loss: 0.5402 - val_accuracy: 0.8520\n",
            "Epoch 6/30\n",
            "7106/7106 [==============================] - 14s 2ms/step - loss: 0.4812 - accuracy: 0.8735 - val_loss: 0.5009 - val_accuracy: 0.8644\n",
            "Epoch 7/30\n",
            "7106/7106 [==============================] - 14s 2ms/step - loss: 0.4383 - accuracy: 0.8839 - val_loss: 0.4749 - val_accuracy: 0.8700\n",
            "Epoch 8/30\n",
            "7106/7106 [==============================] - 14s 2ms/step - loss: 0.4035 - accuracy: 0.8929 - val_loss: 0.4557 - val_accuracy: 0.8762\n",
            "Epoch 9/30\n",
            "7106/7106 [==============================] - 14s 2ms/step - loss: 0.3756 - accuracy: 0.9004 - val_loss: 0.4256 - val_accuracy: 0.8852\n",
            "Epoch 10/30\n",
            "7106/7106 [==============================] - 14s 2ms/step - loss: 0.3512 - accuracy: 0.9061 - val_loss: 0.4108 - val_accuracy: 0.8922\n",
            "Epoch 11/30\n",
            "7106/7106 [==============================] - 14s 2ms/step - loss: 0.3303 - accuracy: 0.9116 - val_loss: 0.4002 - val_accuracy: 0.8910\n",
            "Epoch 12/30\n",
            "7106/7106 [==============================] - 14s 2ms/step - loss: 0.3118 - accuracy: 0.9161 - val_loss: 0.4010 - val_accuracy: 0.8892\n",
            "Epoch 13/30\n",
            "7106/7106 [==============================] - 14s 2ms/step - loss: 0.2957 - accuracy: 0.9207 - val_loss: 0.3807 - val_accuracy: 0.8970\n",
            "Epoch 14/30\n",
            "7106/7106 [==============================] - 14s 2ms/step - loss: 0.2811 - accuracy: 0.9245 - val_loss: 0.3689 - val_accuracy: 0.9006\n",
            "Epoch 15/30\n",
            "7106/7106 [==============================] - 14s 2ms/step - loss: 0.2676 - accuracy: 0.9279 - val_loss: 0.3841 - val_accuracy: 0.8932\n",
            "Epoch 16/30\n",
            "7106/7106 [==============================] - 14s 2ms/step - loss: 0.2555 - accuracy: 0.9308 - val_loss: 0.3585 - val_accuracy: 0.9026\n",
            "Epoch 17/30\n",
            "7106/7106 [==============================] - 14s 2ms/step - loss: 0.2443 - accuracy: 0.9340 - val_loss: 0.3729 - val_accuracy: 0.9016\n",
            "Epoch 18/30\n",
            "7106/7106 [==============================] - 14s 2ms/step - loss: 0.2339 - accuracy: 0.9368 - val_loss: 0.3617 - val_accuracy: 0.9044\n",
            "Epoch 19/30\n",
            "7106/7106 [==============================] - 14s 2ms/step - loss: 0.2241 - accuracy: 0.9400 - val_loss: 0.3589 - val_accuracy: 0.9046\n",
            "Epoch 20/30\n",
            "7106/7106 [==============================] - 14s 2ms/step - loss: 0.2152 - accuracy: 0.9418 - val_loss: 0.3915 - val_accuracy: 0.8978\n",
            "Epoch 21/30\n",
            "7106/7106 [==============================] - 14s 2ms/step - loss: 0.2064 - accuracy: 0.9448 - val_loss: 0.3667 - val_accuracy: 0.9028\n",
            "Epoch 22/30\n",
            "7106/7106 [==============================] - 14s 2ms/step - loss: 0.1991 - accuracy: 0.9466 - val_loss: 0.3503 - val_accuracy: 0.9060\n",
            "Epoch 23/30\n",
            "7106/7106 [==============================] - 14s 2ms/step - loss: 0.1911 - accuracy: 0.9490 - val_loss: 0.3611 - val_accuracy: 0.9054\n",
            "Epoch 24/30\n",
            "7106/7106 [==============================] - 14s 2ms/step - loss: 0.1843 - accuracy: 0.9505 - val_loss: 0.3569 - val_accuracy: 0.9064\n",
            "Epoch 25/30\n",
            "7106/7106 [==============================] - 14s 2ms/step - loss: 0.1774 - accuracy: 0.9526 - val_loss: 0.3612 - val_accuracy: 0.9064\n",
            "Epoch 26/30\n",
            "7106/7106 [==============================] - 14s 2ms/step - loss: 0.1706 - accuracy: 0.9545 - val_loss: 0.3602 - val_accuracy: 0.9076\n",
            "Epoch 27/30\n",
            "7106/7106 [==============================] - 14s 2ms/step - loss: 0.1645 - accuracy: 0.9561 - val_loss: 0.3696 - val_accuracy: 0.9040\n",
            "Epoch 28/30\n",
            "7106/7106 [==============================] - 14s 2ms/step - loss: 0.1584 - accuracy: 0.9576 - val_loss: 0.6850 - val_accuracy: 0.8454\n",
            "Epoch 29/30\n",
            "7106/7106 [==============================] - 14s 2ms/step - loss: 0.1534 - accuracy: 0.9593 - val_loss: 0.3618 - val_accuracy: 0.9072\n",
            "Epoch 30/30\n",
            "7106/7106 [==============================] - 14s 2ms/step - loss: 0.1474 - accuracy: 0.9611 - val_loss: 0.3731 - val_accuracy: 0.9028\n",
            "7106/7106 [==============================] - 13s 2ms/step - loss: 0.1370 - accuracy: 0.9642\n",
            "1205/1205 [==============================] - 2s 2ms/step - loss: 0.7386 - accuracy: 0.8337\n"
          ]
        }
      ]
    },
    {
      "cell_type": "code",
      "metadata": {
        "colab": {
          "base_uri": "https://localhost:8080/"
        },
        "id": "YYqnr_L6JfvZ",
        "outputId": "9acaf5fe-dbf8-443c-ca62-2efcf750b032"
      },
      "source": [
        "print(f\"Training Accuracy: {results_epo_train[1]:.6f}\")\n",
        "print(f\"Testing  Accuracy: {results_epo_test[1]:.6f}\")"
      ],
      "execution_count": 27,
      "outputs": [
        {
          "output_type": "stream",
          "name": "stdout",
          "text": [
            "Training Accuracy: 0.964238\n",
            "Testing  Accuracy: 0.833735\n"
          ]
        }
      ]
    },
    {
      "cell_type": "markdown",
      "metadata": {
        "id": "KEplE2EjJj3o"
      },
      "source": [
        "#### Observations\n",
        "1. Training accuracy **increased by 0.052924.**\n",
        "2. Testing accuracy **increased by 0.030041.**"
      ]
    },
    {
      "cell_type": "markdown",
      "metadata": {
        "id": "k1ns3ranJoWu"
      },
      "source": [
        "### Change Validation Threshold"
      ]
    },
    {
      "cell_type": "code",
      "metadata": {
        "id": "mAkp54i6PU8U"
      },
      "source": [
        "from keras.layers import ReLU"
      ],
      "execution_count": 40,
      "outputs": []
    },
    {
      "cell_type": "code",
      "metadata": {
        "colab": {
          "base_uri": "https://localhost:8080/"
        },
        "id": "ZB1e1e_UJ3tX",
        "outputId": "41513f58-f912-4775-e76a-c030a9e347e9"
      },
      "source": [
        "keras.backend.clear_session()\n",
        "\n",
        "model = keras.models.Sequential()\n",
        "model.add(keras.layers.Flatten(input_shape=[28, 28])) \n",
        "# changing relu threshold values from default 0\n",
        "model.add(keras.layers.Dense(300, activation=ReLU(threshold=0.5)))\n",
        "model.add(keras.layers.Dense(100, activation=ReLU(threshold=4)))\n",
        "model.add(keras.layers.Dense(49, activation=\"softmax\"))\n",
        "\n",
        "model.compile(loss=\"sparse_categorical_crossentropy\",\n",
        "              optimizer=keras.optimizers.SGD(),\n",
        "              metrics=[\"accuracy\"])\n",
        "\n",
        "history = model.fit(X_train, y_train, epochs=10, validation_data=(X_valid, y_valid))\n",
        "\n",
        "results_thr_train = model.evaluate(X_train, y_train)\n",
        "results_thr_test = model.evaluate(X_test, y_test)"
      ],
      "execution_count": 31,
      "outputs": [
        {
          "output_type": "stream",
          "name": "stdout",
          "text": [
            "Epoch 1/10\n",
            "7106/7106 [==============================] - 15s 2ms/step - loss: 3.8381 - accuracy: 0.0254 - val_loss: 3.8110 - val_accuracy: 0.0264\n",
            "Epoch 2/10\n",
            "7106/7106 [==============================] - 15s 2ms/step - loss: 3.8057 - accuracy: 0.0251 - val_loss: 3.7994 - val_accuracy: 0.0232\n",
            "Epoch 3/10\n",
            "7106/7106 [==============================] - 15s 2ms/step - loss: 3.7997 - accuracy: 0.0250 - val_loss: 3.7959 - val_accuracy: 0.0232\n",
            "Epoch 4/10\n",
            "7106/7106 [==============================] - 15s 2ms/step - loss: 3.7977 - accuracy: 0.0250 - val_loss: 3.7946 - val_accuracy: 0.0216\n",
            "Epoch 5/10\n",
            "7106/7106 [==============================] - 15s 2ms/step - loss: 3.7968 - accuracy: 0.0253 - val_loss: 3.7940 - val_accuracy: 0.0246\n",
            "Epoch 6/10\n",
            "7106/7106 [==============================] - 15s 2ms/step - loss: 3.7963 - accuracy: 0.0251 - val_loss: 3.7936 - val_accuracy: 0.0264\n",
            "Epoch 7/10\n",
            "7106/7106 [==============================] - 15s 2ms/step - loss: 3.7960 - accuracy: 0.0251 - val_loss: 3.7935 - val_accuracy: 0.0228\n",
            "Epoch 8/10\n",
            "7106/7106 [==============================] - 15s 2ms/step - loss: 3.7958 - accuracy: 0.0256 - val_loss: 3.7932 - val_accuracy: 0.0232\n",
            "Epoch 9/10\n",
            "7106/7106 [==============================] - 15s 2ms/step - loss: 3.7957 - accuracy: 0.0249 - val_loss: 3.7931 - val_accuracy: 0.0216\n",
            "Epoch 10/10\n",
            "7106/7106 [==============================] - 15s 2ms/step - loss: 3.7957 - accuracy: 0.0249 - val_loss: 3.7929 - val_accuracy: 0.0264\n",
            "7106/7106 [==============================] - 13s 2ms/step - loss: 3.7955 - accuracy: 0.0258\n",
            "1205/1205 [==============================] - 2s 2ms/step - loss: 3.7929 - accuracy: 0.0259\n"
          ]
        }
      ]
    },
    {
      "cell_type": "code",
      "metadata": {
        "colab": {
          "base_uri": "https://localhost:8080/"
        },
        "id": "xXXBICa9N-Yu",
        "outputId": "df7579c5-80c8-451e-9e28-1a4c773bd754"
      },
      "source": [
        "print(f\"Training Accuracy: {results_thr_train[1]:.6f}\")\n",
        "print(f\"Testing  Accuracy: {results_thr_test[1]:.6f}\")"
      ],
      "execution_count": 32,
      "outputs": [
        {
          "output_type": "stream",
          "name": "stdout",
          "text": [
            "Training Accuracy: 0.025809\n",
            "Testing  Accuracy: 0.025942\n"
          ]
        }
      ]
    },
    {
      "cell_type": "markdown",
      "metadata": {
        "id": "hOG_7U7UOArD"
      },
      "source": [
        "#### Observations\n",
        "1. Training accuracy **decreased by 0.885505.**\n",
        "2. Testing accuracy **decreased by 0.777752.**\n",
        "3. Once again, these new (bad) values are same as when I changed the activation functions or Learning Rate."
      ]
    },
    {
      "cell_type": "markdown",
      "metadata": {
        "id": "GMKjwtY2RxFw"
      },
      "source": [
        "### Conclusions \n",
        "1. Given the high accuracies on some of the models, and the fact that Hyperparameter tuning will increase even it even more, it appears that this dataset **is linearly separable** when using neural networks.\n",
        "2. As for neural network's capacity to generalize to new data, in my experiments they have been just as good as with training data or only few percentage points (~10) worse. I am inclined to believe that with hyperparameter tuning the **neural networks will generalize to new data even better.**\n",
        "3. Lastly, as seen in the observations for 'Change Activation' section, functions can make a **huge difference in accuracies, i.e., network's ability to learn and predict classes.** For instance, it appears important that we use **softmax activation** in the last layer. Apart from that, ReLU activations seemed to perform better than the sigmoid and tanh functions, although this observation is just from a single run and not a detailed study."
      ]
    },
    {
      "cell_type": "markdown",
      "metadata": {
        "id": "0DEKPFc3RPDR"
      },
      "source": [
        "## Convolutional Neural Network"
      ]
    },
    {
      "cell_type": "code",
      "metadata": {
        "colab": {
          "base_uri": "https://localhost:8080/"
        },
        "id": "ZqCZg4exvgEW",
        "outputId": "4ddff41b-9791-44b9-ab08-25ca55c4e5b0"
      },
      "source": [
        "print(X_train.shape)\n",
        "print(X_test.shape)"
      ],
      "execution_count": 5,
      "outputs": [
        {
          "output_type": "stream",
          "name": "stdout",
          "text": [
            "(232365, 28, 28)\n",
            "(38547, 28, 28)\n"
          ]
        }
      ]
    },
    {
      "cell_type": "code",
      "metadata": {
        "colab": {
          "base_uri": "https://localhost:8080/"
        },
        "id": "ruVI6F8gRbFn",
        "outputId": "5f79d27a-3c66-4bbc-a265-f41e652362f3"
      },
      "source": [
        "x_train = X_train.reshape(232365, 28, 28, 1)\n",
        "x_test = X_test.reshape(38547, 28, 28, 1)\n",
        "x_train.shape #28*28=784"
      ],
      "execution_count": 7,
      "outputs": [
        {
          "output_type": "execute_result",
          "data": {
            "text/plain": [
              "(232365, 28, 28, 1)"
            ]
          },
          "metadata": {},
          "execution_count": 7
        }
      ]
    },
    {
      "cell_type": "code",
      "metadata": {
        "colab": {
          "base_uri": "https://localhost:8080/"
        },
        "id": "t3oUZRW8xLKx",
        "outputId": "eddc815d-24e6-4356-8f36-137b89f8e3b7"
      },
      "source": [
        "keras.backend.clear_session()\n",
        "model = tf.keras.models.Sequential([\n",
        "  tf.keras.layers.Conv2D(64, (3,3), activation='relu', input_shape=(28, 28, 1)),\n",
        "  tf.keras.layers.MaxPooling2D(2, 2),\n",
        "  tf.keras.layers.Conv2D(64, (3,3), activation='relu'),\n",
        "  tf.keras.layers.MaxPooling2D(2,2),\n",
        "  tf.keras.layers.Flatten(),\n",
        "  tf.keras.layers.Dense(128, activation='relu'),\n",
        "  tf.keras.layers.Dense(49, activation='softmax')\n",
        "])\n",
        "model.compile(optimizer='adam', loss='sparse_categorical_crossentropy', metrics=['accuracy'])\n",
        "history = model.fit(x_train, y_train, epochs=5)\n",
        "results_train = model.evaluate(x_train, y_train)\n",
        "results_test =  model.evaluate(x_test, y_test)"
      ],
      "execution_count": 20,
      "outputs": [
        {
          "output_type": "stream",
          "name": "stdout",
          "text": [
            "Epoch 1/5\n",
            "7262/7262 [==============================] - 29s 4ms/step - loss: 0.5571 - accuracy: 0.8592\n",
            "Epoch 2/5\n",
            "7262/7262 [==============================] - 28s 4ms/step - loss: 0.2502 - accuracy: 0.9300\n",
            "Epoch 3/5\n",
            "7262/7262 [==============================] - 28s 4ms/step - loss: 0.2005 - accuracy: 0.9435\n",
            "Epoch 4/5\n",
            "7262/7262 [==============================] - 28s 4ms/step - loss: 0.1708 - accuracy: 0.9512\n",
            "Epoch 5/5\n",
            "7262/7262 [==============================] - 28s 4ms/step - loss: 0.1535 - accuracy: 0.9555\n",
            "7262/7262 [==============================] - 20s 3ms/step - loss: 0.1229 - accuracy: 0.9628\n",
            "1205/1205 [==============================] - 3s 3ms/step - loss: 0.4854 - accuracy: 0.8921\n"
          ]
        }
      ]
    },
    {
      "cell_type": "markdown",
      "metadata": {
        "id": "Gznsqik5zulT"
      },
      "source": [
        "**Note: The following accuracies will be used as the baseline to compare all the experiments with.**"
      ]
    },
    {
      "cell_type": "code",
      "metadata": {
        "colab": {
          "base_uri": "https://localhost:8080/"
        },
        "id": "QlTAmWUrz_qg",
        "outputId": "f7543e3a-2b83-44df-a4a9-bcc7b87fface"
      },
      "source": [
        "print(f\"Training Accuracy: {results_train[1]:.4f}\")\n",
        "print(f\"Testing  Accuracy: {results_test[1]:.4f}\")"
      ],
      "execution_count": 21,
      "outputs": [
        {
          "output_type": "stream",
          "name": "stdout",
          "text": [
            "Training Accuracy: 0.9628\n",
            "Testing  Accuracy: 0.8921\n"
          ]
        }
      ]
    },
    {
      "cell_type": "markdown",
      "metadata": {
        "id": "y6wIHdrYaEIg"
      },
      "source": [
        "### Change Activation Functions"
      ]
    },
    {
      "cell_type": "code",
      "metadata": {
        "colab": {
          "base_uri": "https://localhost:8080/"
        },
        "id": "gYg6K5XuzGz6",
        "outputId": "b76ae366-11e4-4578-abbf-b02e91279b10"
      },
      "source": [
        "keras.backend.clear_session()\n",
        "model = tf.keras.models.Sequential([\n",
        "  tf.keras.layers.Conv2D(64, (3,3), activation='sigmoid', input_shape=(28, 28, 1)),\n",
        "  tf.keras.layers.MaxPooling2D(2, 2),\n",
        "  tf.keras.layers.Conv2D(64, (3,3), activation='tanh'),\n",
        "  tf.keras.layers.MaxPooling2D(2,2),\n",
        "  tf.keras.layers.Flatten(),\n",
        "  tf.keras.layers.Dense(128, activation='relu'),\n",
        "  tf.keras.layers.Dense(49, activation='softmax')\n",
        "])\n",
        "model.compile(optimizer='adam', loss='sparse_categorical_crossentropy', metrics=['accuracy'])\n",
        "history = model.fit(x_train, y_train, epochs=5)\n",
        "cnn_results_act_train = model.evaluate(x_train, y_train)\n",
        "cnn_results_act_test =  model.evaluate(x_test, y_test)"
      ],
      "execution_count": 22,
      "outputs": [
        {
          "output_type": "stream",
          "name": "stdout",
          "text": [
            "Epoch 1/5\n",
            "7262/7262 [==============================] - 29s 4ms/step - loss: 0.5039 - accuracy: 0.8651\n",
            "Epoch 2/5\n",
            "7262/7262 [==============================] - 28s 4ms/step - loss: 0.2637 - accuracy: 0.9280\n",
            "Epoch 3/5\n",
            "7262/7262 [==============================] - 28s 4ms/step - loss: 0.2160 - accuracy: 0.9403\n",
            "Epoch 4/5\n",
            "7262/7262 [==============================] - 28s 4ms/step - loss: 0.1896 - accuracy: 0.9478\n",
            "Epoch 5/5\n",
            "7262/7262 [==============================] - 28s 4ms/step - loss: 0.1683 - accuracy: 0.9528\n",
            "7262/7262 [==============================] - 20s 3ms/step - loss: 0.1331 - accuracy: 0.9601\n",
            "1205/1205 [==============================] - 3s 3ms/step - loss: 0.5007 - accuracy: 0.8904\n"
          ]
        }
      ]
    },
    {
      "cell_type": "code",
      "metadata": {
        "colab": {
          "base_uri": "https://localhost:8080/"
        },
        "id": "pXlTfARI1vu3",
        "outputId": "42553bd8-1adb-4bf0-de71-e4a5d221635f"
      },
      "source": [
        "print(f\"Training Accuracy: {cnn_results_act_train[1]:.4f}\")\n",
        "print(f\"Testing  Accuracy: {cnn_results_act_test[1]:.4f}\")"
      ],
      "execution_count": 23,
      "outputs": [
        {
          "output_type": "stream",
          "name": "stdout",
          "text": [
            "Training Accuracy: 0.9601\n",
            "Testing  Accuracy: 0.8904\n"
          ]
        }
      ]
    },
    {
      "cell_type": "markdown",
      "metadata": {
        "id": "dcP9QHOVaEIn"
      },
      "source": [
        "#### Observations\n",
        "1. Training accuracy **decreased by 0.0027.**\n",
        "2. Testing accuracy **decreased by 0.0017.**"
      ]
    },
    {
      "cell_type": "markdown",
      "metadata": {
        "id": "Pg-G5Q1IaEIo"
      },
      "source": [
        "### Change Number and Size of Layers"
      ]
    },
    {
      "cell_type": "code",
      "metadata": {
        "id": "gGjnRUd689Ko"
      },
      "source": [
        "# Added more Cov2D layers, changed filter size, added another connected layer"
      ],
      "execution_count": 31,
      "outputs": []
    },
    {
      "cell_type": "code",
      "metadata": {
        "colab": {
          "base_uri": "https://localhost:8080/"
        },
        "id": "JAXOzFM22LHy",
        "outputId": "b6626733-e338-47a5-b32d-23f4d3ee8b24"
      },
      "source": [
        "keras.backend.clear_session()\n",
        "model = tf.keras.models.Sequential([\n",
        "  tf.keras.layers.Conv2D(64, (3,3), activation='relu', input_shape=(28, 28, 1)),\n",
        "  tf.keras.layers.MaxPooling2D(2, 2),\n",
        "  tf.keras.layers.Conv2D(64, (2,2), activation='relu'),\n",
        "  tf.keras.layers.MaxPooling2D(2, 2),\n",
        "  tf.keras.layers.Conv2D(64, (3,3), activation='relu'),\n",
        "  tf.keras.layers.MaxPooling2D(2,2),\n",
        "  tf.keras.layers.Flatten(),\n",
        "  tf.keras.layers.Dense(200, activation='relu'),\n",
        "  tf.keras.layers.Dense(128, activation='relu'),\n",
        "  tf.keras.layers.Dense(49, activation='softmax')\n",
        "])\n",
        "model.compile(optimizer='adam', loss='sparse_categorical_crossentropy', metrics=['accuracy'])\n",
        "history = model.fit(x_train, y_train, epochs=5)\n",
        "cnn_results_lay_train = model.evaluate(x_train, y_train)\n",
        "cnn_results_lay_test =  model.evaluate(x_test, y_test)"
      ],
      "execution_count": 32,
      "outputs": [
        {
          "output_type": "stream",
          "name": "stdout",
          "text": [
            "Epoch 1/5\n",
            "7262/7262 [==============================] - 34s 5ms/step - loss: 0.5303 - accuracy: 0.8580\n",
            "Epoch 2/5\n",
            "7262/7262 [==============================] - 33s 5ms/step - loss: 0.2465 - accuracy: 0.9312\n",
            "Epoch 3/5\n",
            "7262/7262 [==============================] - 33s 5ms/step - loss: 0.2057 - accuracy: 0.9425\n",
            "Epoch 4/5\n",
            "7262/7262 [==============================] - 33s 5ms/step - loss: 0.1869 - accuracy: 0.9474\n",
            "Epoch 5/5\n",
            "7262/7262 [==============================] - 34s 5ms/step - loss: 0.1718 - accuracy: 0.9520\n",
            "7262/7262 [==============================] - 22s 3ms/step - loss: 0.1514 - accuracy: 0.9563\n",
            "1205/1205 [==============================] - 4s 3ms/step - loss: 0.4001 - accuracy: 0.8989\n"
          ]
        }
      ]
    },
    {
      "cell_type": "code",
      "metadata": {
        "colab": {
          "base_uri": "https://localhost:8080/"
        },
        "id": "MloF2rf32SWq",
        "outputId": "cffbedae-8027-492a-cf4b-0eb033880200"
      },
      "source": [
        "print(f\"Training Accuracy: {cnn_results_lay_train[1]:.4f}\")\n",
        "print(f\"Testing  Accuracy: {cnn_results_lay_test[1]:.4f}\")"
      ],
      "execution_count": 33,
      "outputs": [
        {
          "output_type": "stream",
          "name": "stdout",
          "text": [
            "Training Accuracy: 0.9563\n",
            "Testing  Accuracy: 0.8989\n"
          ]
        }
      ]
    },
    {
      "cell_type": "markdown",
      "metadata": {
        "id": "saBzAjrTaEIp"
      },
      "source": [
        "#### Observations\n",
        "1. Training accuracy **decreased by 0.0065.**\n",
        "2. Testing accuracy **increased by 0.0068.**\n",
        "3. Although accuracy on training set lowered, it is marginal and changes to model actually increased accuracy for new data."
      ]
    },
    {
      "cell_type": "markdown",
      "metadata": {
        "id": "3NCy_2iwaEIp"
      },
      "source": [
        "### Change Learning Rate"
      ]
    },
    {
      "cell_type": "code",
      "metadata": {
        "colab": {
          "base_uri": "https://localhost:8080/"
        },
        "id": "FhCCNfv62k5L",
        "outputId": "b9013082-b0a4-4634-9e42-8dfd5372abe0"
      },
      "source": [
        "keras.backend.clear_session()\n",
        "model = tf.keras.models.Sequential([\n",
        "  tf.keras.layers.Conv2D(64, (3,3), activation='relu', input_shape=(28, 28, 1)),\n",
        "  tf.keras.layers.MaxPooling2D(2, 2),\n",
        "  tf.keras.layers.Conv2D(64, (3,3), activation='relu'),\n",
        "  tf.keras.layers.MaxPooling2D(2,2),\n",
        "  tf.keras.layers.Flatten(),\n",
        "  tf.keras.layers.Dense(128, activation='relu'),\n",
        "  tf.keras.layers.Dense(49, activation='softmax')\n",
        "])\n",
        "model.compile(optimizer=keras.optimizers.Adam(learning_rate=10), loss='sparse_categorical_crossentropy', metrics=['accuracy'])\n",
        "history = model.fit(x_train, y_train, epochs=5)\n",
        "cnn_results_lr_train = model.evaluate(x_train, y_train)\n",
        "cnn_results_lr_test =  model.evaluate(x_test, y_test)"
      ],
      "execution_count": 41,
      "outputs": [
        {
          "output_type": "stream",
          "name": "stdout",
          "text": [
            "Epoch 1/5\n",
            "7262/7262 [==============================] - 29s 4ms/step - loss: 1301879296.0000 - accuracy: 0.0238\n",
            "Epoch 2/5\n",
            "7262/7262 [==============================] - 29s 4ms/step - loss: 7.3680 - accuracy: 0.0244\n",
            "Epoch 3/5\n",
            "7262/7262 [==============================] - 29s 4ms/step - loss: 7.4740 - accuracy: 0.0237\n",
            "Epoch 4/5\n",
            "7262/7262 [==============================] - 29s 4ms/step - loss: 7.4111 - accuracy: 0.0242\n",
            "Epoch 5/5\n",
            "7262/7262 [==============================] - 29s 4ms/step - loss: 7.3859 - accuracy: 0.0230\n",
            "7262/7262 [==============================] - 20s 3ms/step - loss: 9.2981 - accuracy: 0.0258\n",
            "1205/1205 [==============================] - 3s 3ms/step - loss: 9.2904 - accuracy: 0.0259\n"
          ]
        }
      ]
    },
    {
      "cell_type": "code",
      "metadata": {
        "colab": {
          "base_uri": "https://localhost:8080/"
        },
        "id": "EO0k-jXw2y-2",
        "outputId": "25c1e1ba-8083-4c8a-d0d4-5138955f0f88"
      },
      "source": [
        "print(f\"Training Accuracy: {cnn_results_lr_train[1]:.4f}\")\n",
        "print(f\"Testing  Accuracy: {cnn_results_lr_test[1]:.4f}\")"
      ],
      "execution_count": 42,
      "outputs": [
        {
          "output_type": "stream",
          "name": "stdout",
          "text": [
            "Training Accuracy: 0.0258\n",
            "Testing  Accuracy: 0.0259\n"
          ]
        }
      ]
    },
    {
      "cell_type": "markdown",
      "metadata": {
        "id": "fldO6cOOaEIq"
      },
      "source": [
        "#### Observations\n",
        "1. The loss at end of Epoch 1 is **MASSIVE at 1301879296.**\n",
        "2. Training accuracy **decreased by 0.9370.**\n",
        "3. Testing accuracy **decreased by 0.8662.**\n",
        "4. This is expected behaviour. A much higher learning rate means that we can \"skip\" over the local minima because of \"longer jumps\"."
      ]
    },
    {
      "cell_type": "markdown",
      "metadata": {
        "id": "jcZNC2SGaEIq"
      },
      "source": [
        "### Change Momentum"
      ]
    },
    {
      "cell_type": "code",
      "metadata": {
        "id": "AyrQNr503tmW"
      },
      "source": [
        "# Momentum appears to be the beta1 value in the Adam Optimizer.\n",
        "# Lowered it from default 0.9 to 0.1\n",
        "# https://stackoverflow.com/questions/47168616/is-there-a-momentum-option-for-adam-optimizer-in-keras"
      ],
      "execution_count": 48,
      "outputs": []
    },
    {
      "cell_type": "code",
      "metadata": {
        "colab": {
          "base_uri": "https://localhost:8080/"
        },
        "id": "F7SHqeJu3W1a",
        "outputId": "df631451-0322-40e1-bd16-82b133f215f8"
      },
      "source": [
        "keras.backend.clear_session()\n",
        "model = tf.keras.models.Sequential([\n",
        "  tf.keras.layers.Conv2D(64, (3,3), activation='relu', input_shape=(28, 28, 1)),\n",
        "  tf.keras.layers.MaxPooling2D(2, 2),\n",
        "  tf.keras.layers.Conv2D(64, (3,3), activation='relu'),\n",
        "  tf.keras.layers.MaxPooling2D(2,2),\n",
        "  tf.keras.layers.Flatten(),\n",
        "  tf.keras.layers.Dense(128, activation='relu'),\n",
        "  tf.keras.layers.Dense(49, activation='softmax')\n",
        "])\n",
        "model.compile(optimizer=keras.optimizers.Adam(beta_1=0.1), loss='sparse_categorical_crossentropy', metrics=['accuracy'])\n",
        "history = model.fit(x_train, y_train, epochs=5)\n",
        "cnn_results_mom_train = model.evaluate(x_train, y_train)\n",
        "cnn_results_mom_test =  model.evaluate(x_test, y_test)"
      ],
      "execution_count": 46,
      "outputs": [
        {
          "output_type": "stream",
          "name": "stdout",
          "text": [
            "Epoch 1/5\n",
            "7262/7262 [==============================] - 29s 4ms/step - loss: 0.5220 - accuracy: 0.8660\n",
            "Epoch 2/5\n",
            "7262/7262 [==============================] - 28s 4ms/step - loss: 0.2242 - accuracy: 0.9378\n",
            "Epoch 3/5\n",
            "7262/7262 [==============================] - 28s 4ms/step - loss: 0.1760 - accuracy: 0.9504\n",
            "Epoch 4/5\n",
            "7262/7262 [==============================] - 28s 4ms/step - loss: 0.1492 - accuracy: 0.9574\n",
            "Epoch 5/5\n",
            "7262/7262 [==============================] - 28s 4ms/step - loss: 0.1310 - accuracy: 0.9622\n",
            "7262/7262 [==============================] - 20s 3ms/step - loss: 0.0910 - accuracy: 0.9721\n",
            "1205/1205 [==============================] - 3s 3ms/step - loss: 0.4261 - accuracy: 0.9054\n"
          ]
        }
      ]
    },
    {
      "cell_type": "code",
      "metadata": {
        "colab": {
          "base_uri": "https://localhost:8080/"
        },
        "id": "ThTnecGh3W1b",
        "outputId": "998eced8-e425-4c44-b600-fbd89b9f2009"
      },
      "source": [
        "print(f\"Training Accuracy: {cnn_results_mom_train[1]:.4f}\")\n",
        "print(f\"Testing  Accuracy: {cnn_results_mom_test[1]:.4f}\")"
      ],
      "execution_count": 47,
      "outputs": [
        {
          "output_type": "stream",
          "name": "stdout",
          "text": [
            "Training Accuracy: 0.9721\n",
            "Testing  Accuracy: 0.9054\n"
          ]
        }
      ]
    },
    {
      "cell_type": "markdown",
      "metadata": {
        "id": "vupe__CmaEIq"
      },
      "source": [
        "#### Observations\n",
        "1. Training accuracy **increased by 0.0093.**\n",
        "2. Testing accuracy **increased by 0.0133.**"
      ]
    },
    {
      "cell_type": "markdown",
      "metadata": {
        "id": "WfnDh0FwaEIr"
      },
      "source": [
        "### Change Epochs"
      ]
    },
    {
      "cell_type": "code",
      "metadata": {
        "colab": {
          "base_uri": "https://localhost:8080/"
        },
        "id": "f4Q91pMf_IXt",
        "outputId": "bc511eae-d6d0-45f8-9661-b5bc886e7927"
      },
      "source": [
        "keras.backend.clear_session()\n",
        "model = tf.keras.models.Sequential([\n",
        "  tf.keras.layers.Conv2D(64, (3,3), activation='relu', input_shape=(28, 28, 1)),\n",
        "  tf.keras.layers.MaxPooling2D(2, 2),\n",
        "  tf.keras.layers.Conv2D(64, (3,3), activation='relu'),\n",
        "  tf.keras.layers.MaxPooling2D(2,2),\n",
        "  tf.keras.layers.Flatten(),\n",
        "  tf.keras.layers.Dense(128, activation='relu'),\n",
        "  tf.keras.layers.Dense(49, activation='softmax')\n",
        "])\n",
        "model.compile(optimizer=keras.optimizers.Adam(), loss='sparse_categorical_crossentropy', metrics=['accuracy'])\n",
        "history = model.fit(x_train, y_train, epochs=20)\n",
        "cnn_results_epo_train = model.evaluate(x_train, y_train)\n",
        "cnn_results_epo_test =  model.evaluate(x_test, y_test)"
      ],
      "execution_count": 49,
      "outputs": [
        {
          "output_type": "stream",
          "name": "stdout",
          "text": [
            "Epoch 1/20\n",
            "7262/7262 [==============================] - 29s 4ms/step - loss: 0.5232 - accuracy: 0.8646\n",
            "Epoch 2/20\n",
            "7262/7262 [==============================] - 28s 4ms/step - loss: 0.2407 - accuracy: 0.9323\n",
            "Epoch 3/20\n",
            "7262/7262 [==============================] - 28s 4ms/step - loss: 0.1918 - accuracy: 0.9451\n",
            "Epoch 4/20\n",
            "7262/7262 [==============================] - 28s 4ms/step - loss: 0.1658 - accuracy: 0.9525\n",
            "Epoch 5/20\n",
            "7262/7262 [==============================] - 29s 4ms/step - loss: 0.1488 - accuracy: 0.9570\n",
            "Epoch 6/20\n",
            "7262/7262 [==============================] - 28s 4ms/step - loss: 0.1354 - accuracy: 0.9602\n",
            "Epoch 7/20\n",
            "7262/7262 [==============================] - 28s 4ms/step - loss: 0.1267 - accuracy: 0.9629\n",
            "Epoch 8/20\n",
            "7262/7262 [==============================] - 28s 4ms/step - loss: 0.1194 - accuracy: 0.9649\n",
            "Epoch 9/20\n",
            "7262/7262 [==============================] - 28s 4ms/step - loss: 0.1124 - accuracy: 0.9671\n",
            "Epoch 10/20\n",
            "7262/7262 [==============================] - 28s 4ms/step - loss: 0.1072 - accuracy: 0.9687\n",
            "Epoch 11/20\n",
            "7262/7262 [==============================] - 29s 4ms/step - loss: 0.1041 - accuracy: 0.9700\n",
            "Epoch 12/20\n",
            "7262/7262 [==============================] - 28s 4ms/step - loss: 0.1045 - accuracy: 0.9699\n",
            "Epoch 13/20\n",
            "7262/7262 [==============================] - 28s 4ms/step - loss: 0.0995 - accuracy: 0.9715\n",
            "Epoch 14/20\n",
            "7262/7262 [==============================] - 28s 4ms/step - loss: 0.0994 - accuracy: 0.9718\n",
            "Epoch 15/20\n",
            "7262/7262 [==============================] - 28s 4ms/step - loss: 0.0961 - accuracy: 0.9724\n",
            "Epoch 16/20\n",
            "7262/7262 [==============================] - 29s 4ms/step - loss: 0.0967 - accuracy: 0.9729\n",
            "Epoch 17/20\n",
            "7262/7262 [==============================] - 28s 4ms/step - loss: 0.0932 - accuracy: 0.9741\n",
            "Epoch 18/20\n",
            "7262/7262 [==============================] - 28s 4ms/step - loss: 0.0911 - accuracy: 0.9748\n",
            "Epoch 19/20\n",
            "7262/7262 [==============================] - 28s 4ms/step - loss: 0.0941 - accuracy: 0.9752\n",
            "Epoch 20/20\n",
            "7262/7262 [==============================] - 28s 4ms/step - loss: 0.0907 - accuracy: 0.9758\n",
            "7262/7262 [==============================] - 20s 3ms/step - loss: 0.0576 - accuracy: 0.9823\n",
            "1205/1205 [==============================] - 3s 3ms/step - loss: 0.9086 - accuracy: 0.8967\n"
          ]
        }
      ]
    },
    {
      "cell_type": "code",
      "metadata": {
        "colab": {
          "base_uri": "https://localhost:8080/"
        },
        "id": "2eMXPVyP_Ruf",
        "outputId": "65b61286-724a-427f-8694-fab7137a0ee6"
      },
      "source": [
        "print(f\"Training Accuracy: {cnn_results_epo_train[1]:.4f}\")\n",
        "print(f\"Testing  Accuracy: {cnn_results_epo_test[1]:.4f}\")"
      ],
      "execution_count": 50,
      "outputs": [
        {
          "output_type": "stream",
          "name": "stdout",
          "text": [
            "Training Accuracy: 0.9823\n",
            "Testing  Accuracy: 0.8967\n"
          ]
        }
      ]
    },
    {
      "cell_type": "markdown",
      "metadata": {
        "id": "otDsyPf8aEIr"
      },
      "source": [
        "#### Observations\n",
        "1. Training accuracy **increased by 0.0195.**\n",
        "2. Testing accuracy **increased by 0.0046.**"
      ]
    },
    {
      "cell_type": "markdown",
      "metadata": {
        "id": "VffQVXRQaEIr"
      },
      "source": [
        "### Change Validation Threshold"
      ]
    },
    {
      "cell_type": "code",
      "metadata": {
        "colab": {
          "base_uri": "https://localhost:8080/"
        },
        "id": "rp5_6DYE_fRX",
        "outputId": "d28f1f98-2398-4bda-e60e-d39fb93471ad"
      },
      "source": [
        "keras.backend.clear_session()\n",
        "model = tf.keras.models.Sequential([\n",
        "  tf.keras.layers.Conv2D(64, (3,3), activation=ReLU(threshold=5), input_shape=(28, 28, 1)),\n",
        "  tf.keras.layers.MaxPooling2D(2, 2),\n",
        "  tf.keras.layers.Conv2D(64, (3,3), activation=ReLU(threshold=5)),\n",
        "  tf.keras.layers.MaxPooling2D(2,2),\n",
        "  tf.keras.layers.Flatten(),\n",
        "  tf.keras.layers.Dense(128, activation=ReLU(threshold=5)),\n",
        "  tf.keras.layers.Dense(49, activation='softmax')\n",
        "])\n",
        "model.compile(optimizer=keras.optimizers.Adam(), loss='sparse_categorical_crossentropy', metrics=['accuracy'])\n",
        "history = model.fit(x_train, y_train, epochs=5)\n",
        "cnn_results_val_train = model.evaluate(x_train, y_train)\n",
        "cnn_results_val_test =  model.evaluate(x_test, y_test)"
      ],
      "execution_count": 51,
      "outputs": [
        {
          "output_type": "stream",
          "name": "stdout",
          "text": [
            "Epoch 1/5\n",
            "7262/7262 [==============================] - 29s 4ms/step - loss: 1.2867 - accuracy: 0.6707\n",
            "Epoch 2/5\n",
            "7262/7262 [==============================] - 29s 4ms/step - loss: 0.6125 - accuracy: 0.8348\n",
            "Epoch 3/5\n",
            "7262/7262 [==============================] - 29s 4ms/step - loss: 0.5755 - accuracy: 0.8473\n",
            "Epoch 4/5\n",
            "7262/7262 [==============================] - 29s 4ms/step - loss: 0.6094 - accuracy: 0.8366\n",
            "Epoch 5/5\n",
            "7262/7262 [==============================] - 29s 4ms/step - loss: 0.7478 - accuracy: 0.8036\n",
            "7262/7262 [==============================] - 21s 3ms/step - loss: 0.9267 - accuracy: 0.7591\n",
            "1205/1205 [==============================] - 3s 3ms/step - loss: 1.4316 - accuracy: 0.6467\n"
          ]
        }
      ]
    },
    {
      "cell_type": "code",
      "metadata": {
        "colab": {
          "base_uri": "https://localhost:8080/"
        },
        "id": "xwn0VAfl_nQE",
        "outputId": "dba8500a-fd57-408b-888c-e1b07f1047b6"
      },
      "source": [
        "print(f\"Training Accuracy: {cnn_results_val_train[1]:.4f}\")\n",
        "print(f\"Testing  Accuracy: {cnn_results_val_test[1]:.4f}\")"
      ],
      "execution_count": 52,
      "outputs": [
        {
          "output_type": "stream",
          "name": "stdout",
          "text": [
            "Training Accuracy: 0.7591\n",
            "Testing  Accuracy: 0.6467\n"
          ]
        }
      ]
    },
    {
      "cell_type": "markdown",
      "metadata": {
        "id": "9uFCO-PVaEIr"
      },
      "source": [
        "#### Observations\n",
        "1. Training accuracy **decreased by 0.2037.**\n",
        "2. Testing accuracy **decreased by 0.2454.**"
      ]
    },
    {
      "cell_type": "markdown",
      "metadata": {
        "id": "i25tiX9EaEIs"
      },
      "source": [
        "### Conclusions \n",
        "1. Just like with MLP, given the high accuracies on some of the models, and the fact that Hyperparameter tuning will increase it even more, it appears that this dataset **is linearly separable** when using CNN.\n",
        "2. As for CNN's capacity to generalize to new data, in my experiments they have been just as good as with training data or only few percentage points (~10) worse. I am inclined to believe that with hyperparameter tuning the **CNN will generalize to new data even better.**\n",
        "3. Lastly, as seen in the observations for 'Change Activation' section, functions can make a ** difference in accuracies. It may not appear significant in my experiment, but that is just one random run which certainly did make the model worse so I must say activation functions are important and can have varying degrees of effect on the CNN.**"
      ]
    },
    {
      "cell_type": "markdown",
      "metadata": {
        "id": "dHi-LGUuIMOG"
      },
      "source": [
        "## Part 5"
      ]
    },
    {
      "cell_type": "markdown",
      "metadata": {
        "id": "a0ijVTPSINlK"
      },
      "source": [
        "### **Research Question**"
      ]
    },
    {
      "cell_type": "markdown",
      "metadata": {
        "id": "VujZ3mveIkAc"
      },
      "source": [
        "The CNN implementation was one of the most informative and practical parts of the portfolio. It has potential to perform much better on image data sets such as mine. Note that the dataset I have used is the **Kuzushiji-49** Dataset which has images of old style Japanese characters. This has gotten me interested in a very particular application:\n",
        "\n",
        "**\"How can CNN Hyperparameters be tuned to perform OCR on old Japanese physical literature in order to digitize them?\"**\n",
        "\n",
        "It would also be interesting to see how well such a model would perfom on the newer, standardized Japanese script used now. This could have particular significance in developing applications for NLP using text, as well as translations to for Japanese media which has obvious real-life uses for instance in the case of tourists."
      ]
    },
    {
      "cell_type": "markdown",
      "metadata": {
        "id": "scwoFB9MKoxo"
      },
      "source": [
        "### **Research Answer**"
      ]
    },
    {
      "cell_type": "markdown",
      "metadata": {
        "id": "96GMIrASKtyE"
      },
      "source": [
        "While I do not have a detailed solution to provide, I have a general idea.\n",
        "<br><br>Given that our CNN can already reach accuracies of up 90% on test data, it is not unthinkable that with better training it could achieve close to 100% as well. So the solution lies in hyperparameter tuning. <br>\n",
        "I would approach that problem with a Grid Search for the parameters. This would involve limiting our parameter search space to a fixed range, so that it is not infinite, and then running repeated experiments to find best mean values that give us the best parameters. <br><br>\n",
        "Once we are comfortable with our model, we can start capturing live data through camera feeds which would then be used for OCR or translation purposes. "
      ]
    }
  ]
}